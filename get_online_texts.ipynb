{
 "cells": [
  {
   "cell_type": "markdown",
   "metadata": {},
   "source": [
    "# How to retrieve and use online texts\n",
    "\n",
    "Being able to retrieve online texts $-$ books etc. $-$ can be very useful when it comes to testing functions that process strings or for example if you want to establish results about the frequency of letters (or characters) used in English. For example you may want to extract texts from files published on line by **Project Gutenberg** (at <a href=\"https://www.gutenberg.org\">https://www.gutenberg.org</a>.)\n",
    "\n",
    "## Retrieving online texts\n",
    "\n",
    "Let's try this. We find the *utf-8* encoded version of *Pride and Prejudice* by Jane Austen here: \n",
    "```\n",
    "https://www.gutenberg.org/files/1342/1342-0.txt \n",
    "``` \n",
    "and we now download this as a string. The following function will do.  "
   ]
  },
  {
   "cell_type": "code",
   "execution_count": 1,
   "metadata": {},
   "outputs": [],
   "source": [
    "import requests, os"
   ]
  },
  {
   "cell_type": "code",
   "execution_count": 2,
   "metadata": {},
   "outputs": [],
   "source": [
    "def url_to_text_utf8(url):\n",
    "    '''\n",
    "    Given a url for a text that is \n",
    "    'utf-8' encoded this function \n",
    "    returns that text.\n",
    "    '''\n",
    "    response = requests.get(url)\n",
    "    response.encoding = 'utf-8-sig'\n",
    "    return response.text"
   ]
  },
  {
   "cell_type": "markdown",
   "metadata": {},
   "source": [
    "So now let's get the *Pride and Prejudice*. "
   ]
  },
  {
   "cell_type": "code",
   "execution_count": 3,
   "metadata": {},
   "outputs": [],
   "source": [
    "austen_text = url_to_text_utf8(\"https://www.gutenberg.org/files/1342/1342-0.txt\")"
   ]
  },
  {
   "cell_type": "markdown",
   "metadata": {},
   "source": [
    "And let's have a look at the first 1000 characters printed out. "
   ]
  },
  {
   "cell_type": "code",
   "execution_count": 4,
   "metadata": {
    "scrolled": false
   },
   "outputs": [
    {
     "name": "stdout",
     "output_type": "stream",
     "text": [
      "The Project Gutenberg eBook of Pride and Prejudice, by Jane Austen\r\n",
      "\r\n",
      "This eBook is for the use of anyone anywhere in the United States and\r\n",
      "most other parts of the world at no cost and with almost no restrictions\r\n",
      "whatsoever. You may copy it, give it away or re-use it under the terms\r\n",
      "of the Project Gutenberg License included with this eBook or online at\r\n",
      "www.gutenberg.org. If you are not located in the United States, you\r\n",
      "will have to check the laws of the country where you are located before\r\n",
      "using this eBook.\r\n",
      "\r\n",
      "Title: Pride and Prejudice\r\n",
      "\r\n",
      "Author: Jane Austen\r\n",
      "\r\n",
      "Release Date: June, 1998 [eBook #1342]\r\n",
      "[Most recently updated: August 23, 2021]\r\n",
      "\r\n",
      "Language: English\r\n",
      "\r\n",
      "Character set encoding: UTF-8\r\n",
      "\r\n",
      "Produced by: Anonymous Volunteers and David Widger\r\n",
      "\r\n",
      "*** START OF THE PROJECT GUTENBERG EBOOK PRIDE AND PREJUDICE ***\r\n",
      "\r\n",
      "\r\n",
      "\r\n",
      "\r\n",
      "THERE IS AN ILLUSTRATED EDITION OF THIS TITLE WHICH MAY VIEWED AT EBOOK\r\n",
      "[# 42671 ]\r\n",
      "\r\n",
      "cover\r\n",
      "\r\n",
      "\r\n",
      "\r\n",
      "\r\n",
      "Pride and Prejudice\r\n",
      "\r\n",
      "By Jane Austen\r\n",
      "\r\n",
      "CONTENTS\r\n",
      "\r\n",
      "  Ch\n"
     ]
    }
   ],
   "source": [
    "print(austen_text[:1000])"
   ]
  },
  {
   "cell_type": "markdown",
   "metadata": {},
   "source": [
    "**Note.** The string actually looks like this below. (It's the print function that makes it look nice above.) "
   ]
  },
  {
   "cell_type": "code",
   "execution_count": 5,
   "metadata": {},
   "outputs": [
    {
     "data": {
      "text/plain": [
       "'The Project Gutenberg eBook of Pride and Prejudice, by Jane Austen\\r\\n\\r\\nThis eBook is for the use of anyone anywhere in the United States and\\r\\nmost other parts of the world at no cost and with almost no restrictions\\r\\nwhatsoever. You may copy it, give it away or re-use it under the terms\\r\\nof the Project Gutenberg License included with this eBook or online at\\r\\nwww.gutenberg.org. If you are not located in the United States, you\\r\\nwill have to check the laws of the country where you are located before\\r\\nusing this eBook.\\r\\n\\r\\nTitle: Pride and Prejudice\\r\\n\\r\\nAuthor: Jane Austen\\r\\n\\r\\nRelease Date: June, 1998 [eBook #1342]\\r\\n[Most recently updated: August 23, 2021]\\r\\n\\r\\nLanguage: English\\r\\n\\r\\nCharacter set encoding: UTF-8\\r\\n\\r\\nProduced by: Anonymous Volunteers and David Widger\\r\\n\\r\\n*** START OF THE PROJECT GUTENBERG EBOOK PRIDE AND PREJUDICE ***\\r\\n\\r\\n\\r\\n\\r\\n\\r\\nTHERE IS AN ILLUSTRATED EDITION OF THIS TITLE WHICH MAY VIEWED AT EBOOK\\r\\n[# 42671 ]\\r\\n\\r\\ncover\\r\\n\\r\\n\\r\\n\\r\\n\\r\\nPride and Prejudice\\r\\n\\r\\nBy Jane Austen\\r\\n\\r\\nCONTENTS\\r\\n\\r\\n  Ch'"
      ]
     },
     "execution_count": 5,
     "metadata": {},
     "output_type": "execute_result"
    }
   ],
   "source": [
    "austen_text[:1000]"
   ]
  },
  {
   "cell_type": "markdown",
   "metadata": {},
   "source": [
    "## Writing texts to file\n",
    "\n",
    "Its useful to write texts that we want to use to file. The following function will do. "
   ]
  },
  {
   "cell_type": "code",
   "execution_count": 6,
   "metadata": {},
   "outputs": [],
   "source": [
    "def text_to_file(text_string, file_name):\n",
    "    '''\n",
    "    Write the string text_string, to file with \n",
    "    name file_name (and return the object None). \n",
    "    '''\n",
    "    with open(file_name,'w', encoding='utf-8-sig', errors='ignore') as f:\n",
    "        f.write(text_string)\n",
    "    return None"
   ]
  },
  {
   "cell_type": "markdown",
   "metadata": {},
   "source": [
    "Let's try this. "
   ]
  },
  {
   "cell_type": "code",
   "execution_count": 7,
   "metadata": {},
   "outputs": [],
   "source": [
    "text_to_file(austen_text,\"jane_austen.txt\")"
   ]
  },
  {
   "cell_type": "markdown",
   "metadata": {},
   "source": [
    "And let's check that we have created a file `jane_austen.txt`. "
   ]
  },
  {
   "cell_type": "code",
   "execution_count": 8,
   "metadata": {
    "scrolled": false
   },
   "outputs": [
    {
     "data": {
      "text/plain": [
       "['.DS_Store',\n",
       " 'find_divisor.py',\n",
       " 'old_files',\n",
       " 'text_files',\n",
       " 'get_online_texts.ipynb',\n",
       " '__pycache__',\n",
       " 'jane_austen.txt',\n",
       " 'new_austen.txt',\n",
       " 'hybrid_system.py',\n",
       " 'kasiski.py',\n",
       " 'cryptography_lecture_functions.py',\n",
       " 'get_online_texts.py',\n",
       " 'hybrid_cryptography.ipynb',\n",
       " '.ipynb_checkpoints',\n",
       " 'useful_functions.py',\n",
       " 'caesar_vigenere.py',\n",
       " 'backups',\n",
       " 'main_tests.py']"
      ]
     },
     "execution_count": 8,
     "metadata": {},
     "output_type": "execute_result"
    }
   ],
   "source": [
    "os.listdir()"
   ]
  },
  {
   "cell_type": "markdown",
   "metadata": {},
   "source": [
    "Yes it's there. How about getting its content back as a text file. The following function will do. "
   ]
  },
  {
   "cell_type": "code",
   "execution_count": 9,
   "metadata": {},
   "outputs": [],
   "source": [
    "def file_to_text(file_name):\n",
    "    '''\n",
    "    Read the text file with name file_name\n",
    "    and return its contents as a string.\n",
    "    '''\n",
    "    with open(file_name,'r',encoding='utf-8-sig', errors='ignore') as f:\n",
    "        text = f.read()\n",
    "    return text"
   ]
  },
  {
   "cell_type": "code",
   "execution_count": 10,
   "metadata": {},
   "outputs": [],
   "source": [
    "new_austen_text = file_to_text(\"jane_austen.txt\")"
   ]
  },
  {
   "cell_type": "markdown",
   "metadata": {},
   "source": [
    "Unfortunately this is not the same as the original string. "
   ]
  },
  {
   "cell_type": "code",
   "execution_count": 11,
   "metadata": {},
   "outputs": [
    {
     "data": {
      "text/plain": [
       "False"
      ]
     },
     "execution_count": 11,
     "metadata": {},
     "output_type": "execute_result"
    }
   ],
   "source": [
    "austen_text == new_austen_text"
   ]
  },
  {
   "cell_type": "markdown",
   "metadata": {},
   "source": [
    "But its good enough for our purposes. (I suspect that we lose spacing characters.) However from now on the string is preserved on writing and reading. "
   ]
  },
  {
   "cell_type": "code",
   "execution_count": 12,
   "metadata": {},
   "outputs": [],
   "source": [
    "text_to_file(new_austen_text, \"new_austen.txt\")"
   ]
  },
  {
   "cell_type": "code",
   "execution_count": 13,
   "metadata": {},
   "outputs": [],
   "source": [
    "other_austen_text = file_to_text(\"new_austen.txt\")"
   ]
  },
  {
   "cell_type": "code",
   "execution_count": 14,
   "metadata": {},
   "outputs": [
    {
     "data": {
      "text/plain": [
       "True"
      ]
     },
     "execution_count": 14,
     "metadata": {},
     "output_type": "execute_result"
    }
   ],
   "source": [
    "other_austen_text == new_austen_text"
   ]
  },
  {
   "cell_type": "markdown",
   "metadata": {},
   "source": [
    "OK. That's good. And another peek. "
   ]
  },
  {
   "cell_type": "code",
   "execution_count": 16,
   "metadata": {},
   "outputs": [
    {
     "data": {
      "text/plain": [
       "'The Project Gutenberg eBook of Pride and Prejudice, by Jane Austen\\n\\nThis eBook is for the use of anyone anywhere in the United States and\\nmost other parts of the world at no cost and with almost no restrictions\\nwhatsoever. You may copy it, give it away or re-use it under the terms\\nof the Project Gutenberg License included with this eBook or online at\\nwww.gutenberg.org. If you are not located in the United States, you\\nwill have to check the laws of the country where you are located before\\nusing this eBook.\\n\\nTitle: Pride and Prejudice\\n\\nAuthor: Jane Austen\\n\\nRelease Date: June, 1998 [eBook #1342]\\n[Most recently updated: August 23, 2021]\\n\\nLanguage: English\\n\\nCharacter set encoding: UTF-8\\n\\nProduced by: Anonymous Volunteers and David Widger\\n\\n*** START OF THE PROJECT GUTENBERG EBOOK PRIDE AND PREJUDICE ***\\n\\n\\n\\n\\nTHERE IS AN ILLUSTRATED EDITION OF THIS TITLE WHICH MAY VIEWED AT EBOOK\\n[# 42671 ]\\n\\ncover\\n\\n\\n\\n\\nPride and Prejudice\\n\\nBy Jane Austen\\n\\nCONTENTS\\n\\n  Chapter 1\\n\\n  Chapter 2\\n\\n  Chapter 3\\n\\n  Chapt'"
      ]
     },
     "execution_count": 16,
     "metadata": {},
     "output_type": "execute_result"
    }
   ],
   "source": [
    "other_austen_text[:1000]"
   ]
  },
  {
   "cell_type": "markdown",
   "metadata": {},
   "source": [
    "## Example: letter  frequency\n",
    "\n",
    "Let's say you wanted to establish the frequency in English of each letter in the alphabet. A good way of approaching this might be to use the text in one or (preferably) more English books to establish this. The tools given above allow you to retrieve the books in a form ready for processing by the python functions that you define. "
   ]
  }
 ],
 "metadata": {
  "kernelspec": {
   "display_name": "Python 3",
   "language": "python",
   "name": "python3"
  },
  "language_info": {
   "codemirror_mode": {
    "name": "ipython",
    "version": 3
   },
   "file_extension": ".py",
   "mimetype": "text/x-python",
   "name": "python",
   "nbconvert_exporter": "python",
   "pygments_lexer": "ipython3",
   "version": "3.7.3"
  }
 },
 "nbformat": 4,
 "nbformat_minor": 4
}
