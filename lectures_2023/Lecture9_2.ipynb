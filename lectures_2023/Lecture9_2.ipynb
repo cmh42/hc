{
 "cells": [
  {
   "cell_type": "markdown",
   "metadata": {},
   "source": [
    "# Lecture 9.2 - cryptography: the RSA protocol in action\n",
    "\n",
    "## Summary \n",
    "\n",
    "### Programming\n",
    "\n",
    "- Preliminary computational results/reminders for use in the RSA Protocol\n",
    "    - Modular Arithmetic in python\n",
    "    - The `pow` function\n",
    "    - Computing the Totient function\n",
    "    - Computing the modular inverse \n",
    "- Implementing the RSA protocol: key generation, encryption and decryption\n",
    "\n",
    "### Mathematics \n",
    "\n",
    "- Preliminary mathematical results/reminders for use in the RSA Protocol\n",
    "    - The Euler-Fermat Theorem\n",
    "    - Multiplicative Functions\n",
    "    - The totient function\n",
    "    - Modular Roots\n",
    "- The RSA protocol \n"
   ]
  },
  {
   "cell_type": "markdown",
   "metadata": {},
   "source": [
    "# Extra resources\n",
    "\n",
    "You will need functions belonging to the modules contained in the files\n",
    "- `number_theory_lecture_functions.py`,\n",
    "- `conversion_functions.py`, \n",
    "- `miller_rabin.py`. \n",
    "\n",
    "So you should make sure to download/upload these files into your present working directory. "
   ]
  },
  {
   "cell_type": "markdown",
   "metadata": {},
   "source": [
    "\n",
    "    \n",
    "### The `is_prime` function\n",
    "\n",
    "\n",
    "\n",
    "An important function that we will import from  the `miller_rabin` module and use below is the function  `is_prime`. This is a fast prime testing function (that replaces `isprime_basic` developed in Lecture 8.1) designed using probabilistic methods. \n",
    "\n",
    "<div class=\"alert alert-warning\">\n",
    "\n",
    "The development of `is_prime` is carried out  in **Bonus Lecture 9.3**. Note that this Bonus Lecture is for enthusiasts: it is entirely optional and you do not need to study it. \n",
    "</div>\n",
    "    \n",
    "However we recommend that you cast an eye over the definition of the  `is_prime` function by opening/inspecting  the python (text) file `miller_rabin.py` via the Jupyter Dashboard.  \n"
   ]
  },
  {
   "cell_type": "markdown",
   "metadata": {},
   "source": [
    "## Preliminary results for use in the RSA Protocol\n",
    "\n",
    "We begin with a reminder of a few number theoretic results that will useful in our development of the RSA protocol. We also test our findings! "
   ]
  },
  {
   "cell_type": "markdown",
   "metadata": {},
   "source": [
    "### Modular Arithmetic in python\n",
    "\n",
    "<div class=\"alert alert-block alert-info\">\n",
    "This is a reminder: we have already implemented modular arithmetic in earlier lectures.\n",
    "</div>\n",
    "\n",
    "Remember that `%` is the remainder operator in python. \n",
    "Also remember  that if $r$ is the remainder of $a$ when divided by $b$, then $a \\equiv r \\; \\mbox{modulo}\\; b$, i.e$.$ $0 \\le r < b$ is the *natural representative* of $a$ working modulo $b$. \n",
    "\n",
    "**Example.** What is $279$ modulo $43$?"
   ]
  },
  {
   "cell_type": "code",
   "execution_count": null,
   "metadata": {
    "scrolled": true
   },
   "outputs": [],
   "source": [
    "279 % 43         # We have 279 = 6 * 43 + 21 so expect 21 to be output"
   ]
  },
  {
   "cell_type": "markdown",
   "metadata": {},
   "source": [
    "So $279 \\equiv 21$ modulo $43$, i.e. $21$ is the natural representative of $279$ working modulo $43$. But going further, you also saw in the first year that the modulo operator distributes over the arithmetic operations $+$, $\\times$ etc.  \n",
    "\n",
    "**Example.**  Suppose we want to compute $17^{212}$ modulo $43$. Then we can do this via brute force by firstly computing a huge number..."
   ]
  },
  {
   "cell_type": "code",
   "execution_count": null,
   "metadata": {
    "scrolled": true
   },
   "outputs": [],
   "source": [
    "17**212         # Well yes, this is rather large"
   ]
  },
  {
   "cell_type": "markdown",
   "metadata": {},
   "source": [
    "and then apply the modulo operator. "
   ]
  },
  {
   "cell_type": "code",
   "execution_count": null,
   "metadata": {
    "scrolled": true
   },
   "outputs": [],
   "source": [
    "17 ** 212 % 43"
   ]
  },
  {
   "cell_type": "markdown",
   "metadata": {},
   "source": [
    "In other words a lot of work to extract a 2 digit number... or instead use that fact that the modulo operator distributes over $\\times$ and so achieve the same outcome by repeatedly multiplying by $17$ and computing the result modulo $43$ at each step. "
   ]
  },
  {
   "cell_type": "code",
   "execution_count": null,
   "metadata": {},
   "outputs": [],
   "source": [
    "product = 1 \n",
    "for i in range(212):             #  We repeat the next line 212 times \n",
    "    product = product * 17 % 43  #  Apply mod at each stage \n",
    "product    "
   ]
  },
  {
   "cell_type": "markdown",
   "metadata": {},
   "source": [
    "###  The `pow` function\n",
    "\n",
    "OK. That's good to know. But there is better news: python has a built in function `pow` for both non-modular and modular exponentiation. "
   ]
  },
  {
   "cell_type": "code",
   "execution_count": null,
   "metadata": {
    "scrolled": true
   },
   "outputs": [],
   "source": [
    "pow(17,212)       # The same as 17**212"
   ]
  },
  {
   "cell_type": "code",
   "execution_count": null,
   "metadata": {},
   "outputs": [],
   "source": [
    "pow(17,212,43)    # The same as 17**212 % 43 "
   ]
  },
  {
   "cell_type": "markdown",
   "metadata": {},
   "source": [
    "(We will use `pow` for modular exponentiation when we implement the RSA protocol below.) "
   ]
  },
  {
   "cell_type": "markdown",
   "metadata": {},
   "source": [
    "### The Euler-Fermat Theorem \n",
    "<div class=\"alert alert-block alert-info\">\n",
    "This is a reminder from Lecture 8.2.\n",
    "</div>\n",
    "\n",
    "For $N \\in \\mathbb{N}$ we define  $\\phi : \\mathbb{N} \\rightarrow \\mathbb{N}$ to be the function such that $\\phi(N)$ is the number of elements of $\\{0,\\dots,N-1\\}$ that are coprime to $N$. We say that $\\phi(N)$ is the **totient** of $N$ and that $\\phi$ is the (or Euler's) **totient function**. \n",
    "\n",
    "**The Euler-Fermat Theorem** states that, if $m$ and $N$ are  positive integers such that  $\\mathrm{gcd}(m,N) = 1$, then\n",
    "\n",
    "$$\n",
    "m^{\\phi(N)} \\,\\equiv\\, 1 \\; (\\mathrm{mod}\\; N) \\,.\n",
    "$$\n",
    "\n",
    "**Note.** Fermat's Little Theorem is a special case of the Euler-Fermat Theorem. "
   ]
  },
  {
   "cell_type": "markdown",
   "metadata": {},
   "source": [
    "### Multiplicative functions\n",
    "\n",
    "<div class=\"alert alert-block alert-info\">\n",
    "This is a reminder from Lecture 8.2.\n",
    "</div>\n",
    "\n",
    "Saying that an arithmetic function $f$ is a **multiplicative function**  means that **(i)** $f(1) = 1$ and **(ii)** for any positive integers $a$ and $b$, if $\\mathrm{gcd}(a,b) = 1$, then $f(a \\cdot b) = f(a) \\cdot f(b)$. "
   ]
  },
  {
   "cell_type": "markdown",
   "metadata": {},
   "source": [
    "### Fast Method for computing the $\\phi(N)$\n",
    "\n",
    "It's easy to write a \"brute force\" algorithm  to compute $\\phi(N)$ which simply counts all the numbers $0 \\le i < N$ such that $gcd(i,N) = 1$.   Note however that any such algorithm is **VERY SLOW**. Nevertheless we can show the following. \n",
    "\n",
    "**Lemma 9.1.** Suppose that the prime decomposition of $N$ is $\\prod_{i=1}^k p_i^{e_i}$ (i.e. that $N = \\prod_{i=1}^k p_i^{e_i}$). Then\n",
    "\n",
    "$$\n",
    "\\phi(N) \\;=\\; \\prod_{i=1}^k \\phi\\left(p_i^{e_i}\\right) \n",
    "        \\;=\\; \\prod_{i=1}^k p_i^{e_i - 1}(p_i - 1) \\,.  \\tag{1}\n",
    "$$\n",
    "\n",
    "**Proof.**  This follows from the fact that the totient function is multiplicative and that, for prime $p$, \n",
    "$\\phi(p^e) = p^e - p^{e-1} = p^{e-1}(p-1)$. See Lecture 8.2. \n",
    "\n",
    "**Corollary 9.2.** Suppose  $N = p \\cdot q$ for some prime numbers $p, q$. Then \n",
    "\n",
    "$$ \n",
    "\\phi(N) \\;=\\; \\phi(p) \\cdot \\phi(q) \\;=\\; (p - 1)\\cdot(q - 1) \\,. \\tag{2}\n",
    "$$\n",
    "</div>\n",
    "\n",
    "**Proof.** This follows from Lemma 9.1. However, taking into account that $\\phi$ is multiplicative, we can also derive this directly from the fact that, given prime $p$, $\\phi(p) = p - 1$, as $\\phi(p)$ simply counts the  set of non-zero numbers in $\\{0,\\dots,p-1\\}$, i.e. the set $\\{1,\\dots,p-1\\}$. \n",
    "\n",
    "**Remark.** The point of this is that, if I (for decryption purposes) know the prime decomposition of $N$ then I have a very fast method of computing $\\phi(N)$. However if you (the potential hacker) don't have this information then the best that you can do is to compute $\\phi(N)$ by some form of brute force algorithm... and this is very slow.\n",
    "\n"
   ]
  },
  {
   "cell_type": "markdown",
   "metadata": {},
   "source": [
    "### Modular Roots \n",
    "\n",
    "<div class=\"alert alert-block alert-info\">\n",
    "This is a reminder from Lecture 8.3.\n",
    "</div>\n",
    "\n",
    "\n",
    "Suppose that $e,t$ are positive integers such that $\\mathrm{gcd}(e,t) = 1$. Then there exists positive integer $f$ such that $e \\cdot f \\equiv 1 \\;(\\mathrm{mod}\\; t)$. We call $f$ the **multiplicative inverse** of $e$ modulo $t$. \n",
    "\n",
    "**Lemma 9.3.**  If $\\mathrm{gcd}(m,N) = 1$, $\\mathrm{gcd}(e,\\phi(N)) = 1$, and $f$ is the multiplicative inverse of $e$ modulo $\\phi(N)$ $-$ i.e. $e \\cdot f \\equiv 1\\;(\\mathrm{mod} \\;\\phi(N))$ $-$ then \n",
    "\n",
    "$$                                                                                             \n",
    "m^{e \\cdot f} \\equiv m \\;(\\mathrm{mod}\\; N) \\,.                                               \n",
    "$$ \n",
    "\n",
    "\n",
    "\n",
    "\n",
    "<font color=\"blue\"><b>Important Fact 9.4.</b></font> Suppose we have  $m$, $e$, and $N$ as stated in Lemma 9.3 with $m < N$ and such that we know the value of $e$ and $N$ but NOT the value of $m$. Suppose also that we receive the integer $m^e \\;(\\mathrm{mod}\\; N)$. Then it suffices that we compute $f$ - the multiplicative inverse of $e$ modulo $\\phi(N)$ - in order to retrieve $m$ via the computation  \n",
    "\n",
    "$$\n",
    "\\left(m^e\\right)^f \\;(\\mathrm{mod}\\; N) = m \\,. \\tag{3}\n",
    "$$\n",
    "</div>"
   ]
  },
  {
   "cell_type": "markdown",
   "metadata": {},
   "source": [
    "### Computing the Modular Inverse\n",
    "\n",
    "Now we need a function that computes the modular inverse. But we already developed a function `modular_inverse` in Lecture 8.1 which, on input `(a,n)` such that `a` and `n` are coprime positive integers, returns the inverse of `a` modulo `n`. This function has been added to the module `number_theory_lecture_functions` and so we simply import it here. \n",
    "\n",
    "**Note.** For completeness we also show how to develop the function `modular_inverse` in the Appendix below.   "
   ]
  },
  {
   "cell_type": "code",
   "execution_count": null,
   "metadata": {
    "scrolled": true
   },
   "outputs": [],
   "source": [
    "from number_theory_lecture_functions import modular_inverse"
   ]
  },
  {
   "cell_type": "markdown",
   "metadata": {},
   "source": [
    "Let's try this. "
   ]
  },
  {
   "cell_type": "code",
   "execution_count": null,
   "metadata": {},
   "outputs": [],
   "source": [
    "modular_inverse(16,37)"
   ]
  },
  {
   "cell_type": "markdown",
   "metadata": {},
   "source": [
    "### Testing <font color=\"blue\">Important Fact 9.4</font> in python (in readiness for the RSA Protocol)"
   ]
  },
  {
   "cell_type": "markdown",
   "metadata": {},
   "source": [
    "Now suppose that $N = p \\cdot q$ with $p$, $q$ prime (as this is the case that we will use). Let's randomly test whether we can retrieve $m$ from $m^e$ modulo $N$ in the manner described in (3), under the assumption that $m < N$ and that the first two assumptions of Lemma 9.3. are satisfied. \n",
    "\n",
    "**Note 1.** Having generated the two primes $p$, $q$ whose product forms $N$, our  test consists of a `while` loop that only processes the random numbers generated once the first two assumptions of Lemma 9.3 are satisfied $-$ i.e. in the case when $\\mathrm{gcd}(m,N) = 1$ and $\\mathrm{gcd}(e,\\phi(N)) = 1$. (Satisfaction of the second condition means that we can compute $f$ such that  $e \\cdot f \\equiv 1\\;(\\mathrm{mod} \\;\\phi(N))$). \n",
    "\n",
    "**Note 2.** Since $N = p \\cdot q$, we know by Corollary 9.2 that \n",
    "\n",
    "$$ \n",
    "\\phi(N) \n",
    "\\;=\\; (p - 1)\\cdot(q - 1) \n",
    "\\;=\\; p \\cdot q - (p + q) + 1\n",
    "\\;=\\; N - (p + q) + 1 \\,.\n",
    "$$ \n",
    "\n",
    "We use this below.\n",
    "\n",
    "**Remark.** In the test below with $N = p \\cdot q$, with $p$ and $q$ both prime and $m$ a positive integer with a  number of digits less than either that of  $p$ or of  $q$ the test `gcd(m,N) == 1` is trivially satisfied. "
   ]
  },
  {
   "cell_type": "code",
   "execution_count": null,
   "metadata": {
    "scrolled": false
   },
   "outputs": [],
   "source": [
    "# MAKE SURE THAT THE FILES number_theory_lecture_functions.py AND miller_rabin.py ARE IN YOUR\n",
    "# CURRENT WORKING FOLDER TO ALLOW US TO IMPORT THE FUNCTIONS gcd, modular_inverse AND is_prime\n",
    "from random import randint\n",
    "from number_theory_lecture_functions import gcd, modular_inverse  \n",
    "from miller_rabin import is_prime\n",
    "\n",
    "# We start by generating two prime numbers p, q\n",
    "primes = []\n",
    "while len(primes) < 2: \n",
    "    n = randint(1000,9999)      # A random 4-digit number\n",
    "    if is_prime(n):\n",
    "        primes.append(n)\n",
    "\n",
    "[p, q] = primes                 # For clarity \n",
    "\n",
    "not_found = True\n",
    "while not_found:\n",
    "    N = p * q                   # N is a 7 or 8-digit number \n",
    "    e = randint(1000,9999)      # A random 4-digit number\n",
    "    m = randint(100,999)        # A random 3-digit number\n",
    "    if gcd(m,N) == 1:           \n",
    "        totient = N - (p + q) + 1  # This is \\phi(N) - see Note 2 above\n",
    "        if gcd(e,totient) == 1:\n",
    "            f = modular_inverse(e,totient)\n",
    "            me_received = m**e % N \n",
    "            m_computed = pow(m, e*f, N) # This computes m**(e*f) (mod N) [alternatively: pow(me_received, f, N)] \n",
    "            print(\"Done! Our random search resulted in the following.\")\n",
    "            print(\"m = {}, e = {}, N = {}, euler_totient(N) = {}.\".format(m,e,N,totient))\n",
    "            print(\"Also gcd(m,N) = 1 and gcd(e,euler_totient(N)) = 1.\")\n",
    "            print(\"The multiplicative inverse of {} modulo {} is f = {}.\".format(e,totient,f))\n",
    "            print(\"We check below that our computation yields {} as required.\".format(m))\n",
    "            print(\"\\n(m**e)**f = {}**({} * {}) = {} (mod {})\\n\".format(m,e,f,m_computed,N))\n",
    "            print(\"So on reception of m**e = {}**{} = {} (mod {})\".format(m,e,me_received,N), end = \" \")\n",
    "            print(\"we compute {}.\".format(m))\n",
    "            print(\"\\nTHE POINT: under the assumption that we know e = {} and N = {}\".format(e,N))\n",
    "            print(\"and that we have a fast algorithm\", end = \" \")       \n",
    "            print(\"for computing euler_totient(N) = {},\".format(totient))\n",
    "            print(\"when we receive\\n\\n\\t\\t\\t m**e (mod N) = {}\\n\".format(me_received))\n",
    "            print(\"we are able to easily compute and retrieve m = {}.\".format(m_computed))\n",
    "            not_found = False"
   ]
  },
  {
   "cell_type": "markdown",
   "metadata": {},
   "source": [
    "## The RSA Protocol in action\n",
    "\n",
    "**Note.** We have already studied the number theoretic core of the RSA Protocol in Lecture 8.3. Here we implement the protocol via a realistic example in which a textual message is encrypted and decrypted using 512 bit (private key) prime numbers. \n",
    "\n",
    "The RSA Encryption protocol, invented by **R**ivest, **S**hamir and **A**delman, is asymmetric. Alice, who is to receive a message, has two keys: a **public key**, that she publishes online and that Bob (or anyone else) can use to encrypt his message, and a **private key** that Alice uses to decrypt the message that Bob sends her. \n",
    "\n",
    "In the RSA protocol the private key is a pair $(p,q)$ where $p$ and $q$ are large (e.g$.$ 512 bit) prime numbers. The public key is the pair $(N,e)$ where $N$ is defined to be the product $N = p \\cdot q$ and $e$ is an auxiliary number called the **exponent**. Note that $e$ can be repeatedly used by different people and that often the number $e = 65537$ is used. (You should check that this is a prime with nice properties.) \n",
    "\n",
    "Note that the asymmetry of the protocol is due to the fact that only Alice generates the keys used when Bob is going to send her a message (as opposed to both Alice and Bob generating keys as is the case under, for example, the Diffie Hellman protocol). Note also that it is VITAL that a private key $(p,q)$ is NOT used by different people. \n",
    "\n",
    "To proceed we need to be able to generate large randomly chosen primes. We use the function `is_prime` that we  imported from the `miller_rabin` module in the testing cell above (but we perform the import again below to make sure - in case you have not run the testing cell in your present session).  We also need a special function `SystemRandom` from the `random` module to generate cryptographically secure random numbers. "
   ]
  },
  {
   "cell_type": "code",
   "execution_count": null,
   "metadata": {},
   "outputs": [],
   "source": [
    "from random import SystemRandom\n",
    "from miller_rabin import is_prime\n",
    "\n",
    "# Find a cryptographically secure random number of bitlength many bits. \n",
    "def random_prime(bit_length):\n",
    "    '''\n",
    "    Returns a cryptographically secure random numbber \n",
    "    of bit_length many (binary) bits \n",
    "    '''\n",
    "    while True:\n",
    "        p = SystemRandom().getrandbits(bit_length)  \n",
    "        # Check whether p is a prime of the right bit length\n",
    "        if p >= 2**(bit_length-1):\n",
    "            if is_prime(p):\n",
    "                return p"
   ]
  },
  {
   "cell_type": "code",
   "execution_count": null,
   "metadata": {
    "scrolled": false
   },
   "outputs": [],
   "source": [
    "test_p = random_prime(1024)   # A random prime of 1024 (binary) bits\n",
    "print(\"The length of the binary representation of test_p is: {}\".format(len(bin(test_p)[2:])))\n",
    "print(\"\\ntest_p = \\n{}\".format(test_p))"
   ]
  },
  {
   "cell_type": "markdown",
   "metadata": {},
   "source": [
    "## Alice: key generation. ##\n",
    "\n",
    "We have given Alice the necessary means to generate her private and public key. "
   ]
  },
  {
   "cell_type": "code",
   "execution_count": null,
   "metadata": {},
   "outputs": [],
   "source": [
    "def rsa_private_key(bit_length):\n",
    "    '''\n",
    "    Given input bit_length returns a private RSA key (p,q) where \n",
    "    both p and q are primes with bit_length number of (binary) bits. \n",
    "    '''\n",
    "    p = random_prime(bit_length)\n",
    "    q = random_prime(bit_length)\n",
    "    return (p,q)    # This is a 'tuple'. "
   ]
  },
  {
   "cell_type": "markdown",
   "metadata": {},
   "source": [
    "Alice now generates her private key: a pair of 512-bit primes. "
   ]
  },
  {
   "cell_type": "code",
   "execution_count": null,
   "metadata": {},
   "outputs": [],
   "source": [
    "(p,q) = rsa_private_key(512)\n",
    "print(\"Alice's private key is (p,q) where: \\n\")\n",
    "print(\"p = \")\n",
    "print(p)\n",
    "print(\"\\nq = \")\n",
    "print(q)\n"
   ]
  },
  {
   "cell_type": "markdown",
   "metadata": {},
   "source": [
    "Alice also needs a public key. "
   ]
  },
  {
   "cell_type": "code",
   "execution_count": null,
   "metadata": {},
   "outputs": [],
   "source": [
    "def rsa_public_key(p,q, e = 65537):\n",
    "    '''\n",
    "    Given input (p,q,e) returns the RSA public key \n",
    "    from the two prime numbers p and q and auxiliary \n",
    "    exponent e. If only (p,q) input, e = 65537 is used.\n",
    "    '''\n",
    "    N = p * q\n",
    "    return (N,e)"
   ]
  },
  {
   "cell_type": "code",
   "execution_count": null,
   "metadata": {
    "scrolled": true
   },
   "outputs": [],
   "source": [
    "(N,e) = rsa_public_key(p,q)\n",
    "print(\"Alice's public key is (N,e) where:\\n\")\n",
    "print(\"N = \")\n",
    "print(N)\n",
    "print(\"\\ne = {}\".format(e))"
   ]
  },
  {
   "cell_type": "markdown",
   "metadata": {},
   "source": [
    "Alice  now makes her public key `(N,e)` available online. "
   ]
  },
  {
   "cell_type": "markdown",
   "metadata": {},
   "source": [
    "## Bob: encryption.\n",
    "\n",
    "Bob writes his message and then uses the `convert_to_integer` function developed in the last lecture to convert it into an integer `m`. "
   ]
  },
  {
   "cell_type": "code",
   "execution_count": null,
   "metadata": {},
   "outputs": [],
   "source": [
    "message = \"This is a secret message meant only for Alice.\""
   ]
  },
  {
   "cell_type": "code",
   "execution_count": null,
   "metadata": {
    "scrolled": true
   },
   "outputs": [],
   "source": [
    "from conversion_functions import convert_to_integer\n",
    "\n",
    "m = convert_to_integer(message)\n",
    "print(\"Bob's message is : '\" + message + \"'\")\n",
    "print(\"Bob has converted this into the number:\\n\\nm = {}\".format(m))"
   ]
  },
  {
   "cell_type": "markdown",
   "metadata": {},
   "source": [
    "**Note.** The integer `m` must be smaller than `N` since this ensures  that, when we compute $m \\;\\left( \\mathrm{mod}\\; N  \\right)\\,$ we obtain $m$ itself.  However we will also make sure that the number of bits of `m` is less than the number of bits of `p` or `q` (i.e$.$ 512 bits in the present case).  This means that `m` is less than both `p` and `q` (and hence not a multiple of either) which implies that $\\mathrm{gcd}(m,N) = 1$ (since this is another condition that we need). Note that this is the case here (as `m` is a 369-bit integer). For a longer message Bob should slice it into pieces to be sent one at a time.  "
   ]
  },
  {
   "cell_type": "markdown",
   "metadata": {},
   "source": [
    "Bob's encryption procedure is now simple. He encrypts $m$ as a ciphertext integer $c$ by setting \n",
    "\n",
    "$$\n",
    "c \\,=\\, m^e \\;\\left( \\mathrm{mod}\\; N  \\right)\\, . \n",
    "$$ "
   ]
  },
  {
   "cell_type": "code",
   "execution_count": null,
   "metadata": {},
   "outputs": [],
   "source": [
    "def rsa_encrypt(m, N, e):  \n",
    "    '''\n",
    "    Given input (m,N,E) where m is the numerical \n",
    "    encoding of a message, returns the RSA \n",
    "    encryption of m using public key (N,e).\n",
    "    '''\n",
    "    return pow(m, e, N) # This is m**e (mod N)"
   ]
  },
  {
   "cell_type": "code",
   "execution_count": null,
   "metadata": {
    "scrolled": true
   },
   "outputs": [],
   "source": [
    "c = rsa_encrypt(m,N,e)\n",
    "print(\"Bob has encrypted his converted message m into ciphpertext c.\")\n",
    "print(\"\\nc = \")\n",
    "print(c)"
   ]
  },
  {
   "cell_type": "markdown",
   "metadata": {},
   "source": [
    "Bob now sends his message to Alice. "
   ]
  },
  {
   "cell_type": "markdown",
   "metadata": {},
   "source": [
    "## Alice: decryption.\n",
    "\n",
    "To decrypt the ciphertext $c$ Alice needs to find $m$ - i.e$.$ the $e$-th root of $c$ modulo $N$. But we know how to do this from Lemma 9.3 (see Important Fact 9.4): as \n",
    "$c \\equiv m^e \\;\\left( \\mathrm{mod}\\;N  \\right)$ it suffices to find integer $f$ such that $e \\cdot f \\equiv 1$ modulo $\\phi(N)$. Indeed, as we saw above, Alice can then can compute: \n",
    "\n",
    "$$\n",
    "c^f \\equiv m^{e \\cdot f} \\equiv m \\;\\left( \\mathrm{mod}\\;N  \\right) \\,.\n",
    "$$\n",
    "\n",
    "In other words, by raising $c$ to the power of $f$ Alice extracts $m$. So Alice just needs to find $f$, the multiplicative inverse of $e$ modulo $\\phi(N)$. \n",
    "\n",
    "**Remark.** We have used the fact that  the two conditions of Lemma 9.3 are satisfied: firstly $m < p$ and $m < q$ so that $\\mathrm{gcd}(m,N) = 1$ and secondly  $e$ is prime so that $\\mathrm{gcd}(e,\\phi(N)) = 1$.\n",
    "\n",
    "**What about an eavesdropper?** Suppose that an eavesdropper Eve - who,\n",
    "like everyone else, knows the public key $(N,e)$ - managed to get hold of the ciphertext $c$. Then, if Eve could find $f$, she could also decipher the message! However to do this Eve must compute $\\phi(N)$. Remember that $N$ is very large. Without further information on $N$ this is VERY DIFFICULT to do and would take a VERY LONG TIME. (This is the point... as already mentioned above.) \n",
    "\n",
    "**Alice and her private key.** Alice however knows that $N = p \\cdot q$ and knows the pair of prime numbers $(p,q)$. Indeed this is her private key. So she can use the fact, already mentioned above (see Corollary 9.4), that\n",
    "\n",
    "$$\n",
    "\\phi(N) \\,=\\, (p-1)\\cdot(q-1) \\,=\\, p \\cdot q - (p + q) + 1 \\,. \n",
    "$$\n",
    "\n",
    "I.e. Alice easily and quickly decrypts the ciphertext. "
   ]
  },
  {
   "cell_type": "code",
   "execution_count": null,
   "metadata": {},
   "outputs": [],
   "source": [
    "def rsa_decrypt(c,p,q,N,e): \n",
    "    '''\n",
    "    Given input (c,p,q,N,e) returns the RSA decryption of ciphertext\n",
    "    c using private key (p,q) and public key (N,e). (We input N as a \n",
    "    parameter to avoid having to recompute N = p*q.)\n",
    "    '''\n",
    "    totient = N - (p + q) + 1       # This is (p-1)*(q-1)\n",
    "    f = modular_inverse(e,totient)  # Note: f * e = 1 (mod totient)\n",
    "    return pow(c,f,N)               # This is c**f (mod N)"
   ]
  },
  {
   "cell_type": "code",
   "execution_count": null,
   "metadata": {
    "scrolled": true
   },
   "outputs": [],
   "source": [
    "m_new = rsa_decrypt(c,p,q,N,e)\n",
    "print(\"Alice has deciphered the ciphertext c.\")\n",
    "print(\"The result of Alice's decryption is as follows.\")\n",
    "print(\"\\nm_new = \")\n",
    "print(m_new)\n",
    "\n",
    "if (m_new == m): \n",
    "    print(\"\\nThis is the number that Bob sent.\")"
   ]
  },
  {
   "cell_type": "markdown",
   "metadata": {},
   "source": [
    "Alice now just has to convert this back in to text form and she's done!"
   ]
  },
  {
   "cell_type": "code",
   "execution_count": null,
   "metadata": {},
   "outputs": [],
   "source": [
    "from conversion_functions import convert_to_text\n",
    "\n",
    "new_message = convert_to_text(m_new)\n",
    "print(\"Alice is now able to read the message printed below.\\n\")\n",
    "print(\"new_message = '\" + new_message + \"'\")"
   ]
  },
  {
   "cell_type": "markdown",
   "metadata": {},
   "source": [
    "### Sources. \n",
    "\n",
    "Much of the material in this lecture is drawn from the book and Jupyter notebooks by Martin H. Weissman as listed below.\n",
    "\n",
    "[1] Martin H. Weissman. *An Illustrated Theory of Numbers*. AMS, 2017. \n",
    "\n",
    "[2] Martin H. Weissman. [Python for number Theory (Jupyter Notebooks)](http://illustratedtheoryofnumbers.com/prog.html)"
   ]
  },
  {
   "cell_type": "markdown",
   "metadata": {},
   "source": [
    "## Appendix \n",
    "\n",
    "This Appendix is a reminder of how we developed the function `modular_inverse` in Lecture 8.1   using the  extended version of Euclid's algorithm.  The latter was implemented in python as the function `gcd_ext` where for (positive) integers `a` and `b`, `gcd_ext(a,b)` returns the triple `(g,x,y)` where $g = \\mathrm{gcd}(a,b)$ and \n",
    "\n",
    "$$\n",
    "g = x\\cdot a + y\\cdot b. \n",
    "$$\n",
    "\n",
    "This means that $x \\cdot a = g + (-y)\\cdot b$. Thus, when the greatest common divisor $g = 1$, we have $x \\cdot a \\equiv 1\\; (\\mathrm{mod}\\; b$), so that $x \\;(\\mathrm{mod}\\; b)$ is the multiplicative inverse of $a \\; (\\mathrm{mod}\\; b)$.\n",
    "\n",
    "We then implemented this as the function `modular_inverse`. "
   ]
  },
  {
   "cell_type": "code",
   "execution_count": null,
   "metadata": {},
   "outputs": [],
   "source": [
    "from number_theory_lecture_functions import gcd_ext\n",
    "\n",
    "def modular_inverse(a,b): \n",
    "    '''\n",
    "    Given input (a,b) with a and b integers returns \n",
    "    the multiplicative inverse of a modulo b provided \n",
    "    gcd(a,b) = 1. Otherwise returns an error message.\n",
    "    '''\n",
    "    ic_message = 'The numbers are not coprime'\n",
    "    # We firstly extract (g,x,y) such that g = x*a + y*b\n",
    "    (g,x,y) = gcd_ext(a,b)\n",
    "    if not g == 1: \n",
    "        print(ic_message)\n",
    "        return None\n",
    "    # If we get here we know that 1 = x*a + y*b so x*a = 1 (mod b)\n",
    "    # So (as it may be that x > b) we have that  x (mod b) is the \n",
    "    # modular inverse a (mod b)\n",
    "    x = x % b \n",
    "    return x "
   ]
  },
  {
   "cell_type": "markdown",
   "metadata": {},
   "source": [
    "Let's test this. You can repeatedly execute the following cell to do this. "
   ]
  },
  {
   "cell_type": "code",
   "execution_count": null,
   "metadata": {},
   "outputs": [],
   "source": [
    "from random import randint\n",
    "from number_theory_lecture_functions import gcd\n",
    "\n",
    "not_found = True\n",
    "while not_found:\n",
    "    a = randint(1, 10**6) \n",
    "    b = randint(1,10**6)\n",
    "    if gcd(a,b) == 1:\n",
    "        f = modular_inverse(a,b)\n",
    "        print(\"The multiplicative inverse of {} (mod {}) is: {}\".format(a, b, f))\n",
    "        print(\"Indeed {} * {} (mod {}) = {}\".format(a, f, b, a*f % b))\n",
    "        not_found = False       "
   ]
  }
 ],
 "metadata": {
  "kernelspec": {
   "display_name": "Python 3",
   "language": "python",
   "name": "python3"
  },
  "language_info": {
   "codemirror_mode": {
    "name": "ipython",
    "version": 3
   },
   "file_extension": ".py",
   "mimetype": "text/x-python",
   "name": "python",
   "nbconvert_exporter": "python",
   "pygments_lexer": "ipython3",
   "version": "3.7.3"
  }
 },
 "nbformat": 4,
 "nbformat_minor": 2
}
