{
 "cells": [
  {
   "cell_type": "markdown",
   "metadata": {},
   "source": [
    "# Lecture 9.1 - coding and decoding messages as integers\n",
    "\n",
    "## Summary \n",
    "\n",
    "### Programming\n",
    "\n",
    "- ASCII encoding \n",
    "- The functions `chr`, `ord` and `bin` \n",
    "- Coding characters as binary strings\n",
    "- Converting text/strings to integers \n",
    "- Converting integers to text/strings"
   ]
  },
  {
   "cell_type": "markdown",
   "metadata": {},
   "source": [
    "## Main topics \n",
    "\n",
    "- Coding and decoding texts as integers."
   ]
  },
  {
   "cell_type": "markdown",
   "metadata": {},
   "source": [
    "### Note on this Lecture \n",
    "\n",
    "This lecture gives you a guide on coding and decoding messages/strings into integers.  The main motivation here is to learn how to develop encoding and decoding functions such as  `convert_to_integer` and `convert_to_string` below which allow us to encode a message into an integer to be encrypted and transmitted and then, following decryption to decode the (same) integer into the original message. "
   ]
  },
  {
   "cell_type": "markdown",
   "metadata": {},
   "source": [
    "## Coding and decoding texts as integers \n",
    "\n",
    "Modern computers and programming languages make available $100000$ **unicode** characters covering the alphabets around the world. **ASCII** (American Standard Code for Information Interchange) comprises a subset of $256$ characters. This subset is sufficient for communicating in most European languages, so we will restrict ourselves to using ASCII characters only.   \n",
    "\n",
    "Python has built-in commands `chr` and `ord`for converting between code numbers (here in the interval &nbsp;$[0,255]$&nbsp;) and characters. \n",
    "\n",
    "**Note.** The character encoding in python only  corresponds  exactly to ASCII encoding over the first 128 characters. For simplicity here we refer to the encoding of the first 256 characters as **ASCII**. "
   ]
  },
  {
   "cell_type": "code",
   "execution_count": null,
   "metadata": {},
   "outputs": [],
   "source": [
    "chr(65)"
   ]
  },
  {
   "cell_type": "code",
   "execution_count": null,
   "metadata": {},
   "outputs": [],
   "source": [
    "ord('A')"
   ]
  },
  {
   "cell_type": "markdown",
   "metadata": {},
   "source": [
    "In order to help us convert messages (i.e. strings of characters) to integers and back we will also be interested in the binary representation of characters. "
   ]
  },
  {
   "cell_type": "code",
   "execution_count": null,
   "metadata": {
    "scrolled": true
   },
   "outputs": [],
   "source": [
    "bin(ord('A'))"
   ]
  },
  {
   "cell_type": "markdown",
   "metadata": {},
   "source": [
    "Well yes: we need to get rid of `'0b'` at the start. "
   ]
  },
  {
   "cell_type": "code",
   "execution_count": null,
   "metadata": {},
   "outputs": [],
   "source": [
    "bin(ord('A'))[2:]"
   ]
  },
  {
   "cell_type": "markdown",
   "metadata": {},
   "source": [
    "Now let's get an overview of the characters that will be available to us. We print below the numbers `0` to `255` in the first column, then the binary representation and the character itself in the next two columns. Note that when the third column is empty this means either that we have the space  `' '` in the case of number `32`, or  otherwise that the associated 'character' is a special non-printing character. For example `7` stands for the `'bell'` which can be used to make your computer beep in some way.     "
   ]
  },
  {
   "cell_type": "code",
   "execution_count": null,
   "metadata": {
    "scrolled": true
   },
   "outputs": [],
   "source": [
    "print(\"ASCII   Binary ASCII   Character\")\n",
    "print(\"=====   ============   =========\")\n",
    "for n in range(0,256):\n",
    "    n_bin = bin(n)[2:]\n",
    "    n_char = chr(n)\n",
    "    print(\"{:8s}{:15s}{:s}\".format(str(n),n_bin, n_char))"
   ]
  },
  {
   "cell_type": "markdown",
   "metadata": {},
   "source": [
    "Note that the binary string representations are of variable length. For the purpose of coding \n",
    "and decoding it will be useful to have all representations of the same (i.e. maximal) length 8. The function `char_to_byte` below does just that. \n"
   ]
  },
  {
   "cell_type": "code",
   "execution_count": null,
   "metadata": {},
   "outputs": [],
   "source": [
    "def char_to_byte(char): \n",
    "    \"\"\"\n",
    "    Returns the 8 bit binary representation (padded with \n",
    "    leading zeros when necessary) of ord(char), i.e. of \n",
    "    the order of the input character char. \n",
    "    \"\"\"\n",
    "    byte_string = bin(ord(char))[2:]            # The order of char as a binary string \n",
    "    num_zeros = 8 - len(byte_string)            # The number of zeros needed to pad out byte_string\n",
    "    byte_string = '0' * num_zeros + byte_string # Now pad out byte_string with num_zeros many zeros\n",
    "                                                # to obtain the 8-bit binary representation\n",
    "    return byte_string  "
   ]
  },
  {
   "cell_type": "markdown",
   "metadata": {},
   "source": [
    "Let's now check the result on all the ASCII characters. (But we'll avoid all the initial special characters by starting at $32$ this time.) Let's also check in an extra column (labelled `Check`) that we are able to convert the $8$ character binary string back to the original integer. For this we use python's inbuilt function `int(b,2)` where `b` is a binary string and the `2` instructs the function that the string is binary.  "
   ]
  },
  {
   "cell_type": "code",
   "execution_count": null,
   "metadata": {
    "scrolled": false
   },
   "outputs": [],
   "source": [
    "print(\"ASCII   Binary ASCII   Character   Check\")\n",
    "print(\"=====   ============   =========   =====\")\n",
    "\n",
    "for n in range(32,256):\n",
    "    n_char = chr(n)\n",
    "    n_bin = char_to_byte(n_char)\n",
    "    n_result = int(n_bin,2)\n",
    "    print(\"{:7s} {:14s} {:11s} {}\".format(str(n),n_bin, n_char, n_result))"
   ]
  },
  {
   "cell_type": "markdown",
   "metadata": {},
   "source": [
    "We now encode any message (in the from of a string of characters) using the $8$ bit binary string representation of each symbol in the message. To do this we simply concatenate the binary string representations with a leading '1'. We then convert this binary string into a decimal integer that is unique to this message.  (Make sure that you understand why.) \n",
    "\n",
    "**Note.** Instead of the present method we could of course have use the decimal representation directly, i.e. using strings of decimal digits of length $3$ since $255$ is the largest number that we use. There are in fact infinitely many ways of encoding/decoding text and many of these that are more efficient than the method given here. However note that internally the computer stores these characters as bytes, i.e. binary sequences of length $8$, so that our method simulates to a certain extent the internal workings of the computer.  "
   ]
  },
  {
   "cell_type": "code",
   "execution_count": null,
   "metadata": {},
   "outputs": [],
   "source": [
    "message = \"This is a secret message meant only for Alice.\""
   ]
  },
  {
   "cell_type": "markdown",
   "metadata": {},
   "source": [
    "Let's check how long `message` and its binary representation is."
   ]
  },
  {
   "cell_type": "code",
   "execution_count": null,
   "metadata": {},
   "outputs": [],
   "source": [
    "length = len(message)\n",
    "bin_length = 1 + (8 * length)\n",
    "print(\"The message contains {} characters\".format(length))\n",
    "print(\"The binary representation of the message\", end = \" \")\n",
    "print(\"will contain {} bits\".format(bin_length))"
   ]
  },
  {
   "cell_type": "markdown",
   "metadata": {},
   "source": [
    "Now we convert `message` into an integer in the way described above."
   ]
  },
  {
   "cell_type": "code",
   "execution_count": null,
   "metadata": {},
   "outputs": [],
   "source": [
    "def convert_to_integer(text,verbose=False): \n",
    "    \"\"\"\n",
    "    Returns an integer that encodes the input string text. \n",
    "    Each character of text is encoded as a binary string of \n",
    "    8 bits. These strings are concatenated with a leading 1\n",
    "    and the resulting binary string is converted into the \n",
    "    returned integer.\n",
    "    \"\"\"\n",
    "    bin_string = '1'\n",
    "    for letter in text: \n",
    "        bin_string = bin_string + char_to_byte(letter)\n",
    "    if verbose: \n",
    "        print(\"The binary representation of this message is:\")\n",
    "        print(bin_string)\n",
    "    return int(bin_string,2)"
   ]
  },
  {
   "cell_type": "markdown",
   "metadata": {},
   "source": [
    "And now check what happens. "
   ]
  },
  {
   "cell_type": "code",
   "execution_count": null,
   "metadata": {
    "scrolled": true
   },
   "outputs": [],
   "source": [
    "print(\"The message is: '{}'\\n\".format(message))\n",
    "result = convert_to_integer(message,True)\n",
    "print()\n",
    "print(\"The resulting decimal integer is: \")\n",
    "print(result)"
   ]
  },
  {
   "cell_type": "markdown",
   "metadata": {},
   "source": [
    "Now to decode the resulting integer `result` back to a string of characters, i.e. the original message, we do the following. \n",
    "\n",
    "1. Convert `result` to a binary string `bin_string`. \n",
    "2. Remove `'0b1'` from the front of the string. (Why?)\n",
    "3. Slice `bin_string` in to strings containing 8 bits each, convert these to characters, and concatenate the result."
   ]
  },
  {
   "cell_type": "code",
   "execution_count": null,
   "metadata": {},
   "outputs": [],
   "source": [
    "def convert_to_text(number): \n",
    "    \"\"\" \n",
    "    Returns a string that is the decoding of the input integer number.\n",
    "    This is done by converting number to a binary string, removing the \n",
    "    leading character '1', slicing out each 8 bit substring consecutively,\n",
    "    converting each such string to the character it encodes and concatenating\n",
    "    these characters to obtain the decoded string.    \n",
    "    \"\"\"\n",
    "    # Remove '0b1' from the string \n",
    "    bin_string = bin(number)[3:] \n",
    "    text = ''                           \n",
    "    length = len(bin_string)\n",
    "    for i in range(0,length,8):  \n",
    "        # Pick out binary strings, 8 bits at a time\n",
    "        byte_string = bin_string[i:i+8]   \n",
    "        # Convert byte_string to a character before \n",
    "        # appending it to text \n",
    "        text = text + chr(int(byte_string,2))  \n",
    "    return text"
   ]
  },
  {
   "cell_type": "code",
   "execution_count": null,
   "metadata": {},
   "outputs": [],
   "source": [
    "convert_to_text(result)"
   ]
  },
  {
   "cell_type": "markdown",
   "metadata": {},
   "source": [
    "To see how this works we'll try a verbose version "
   ]
  },
  {
   "cell_type": "code",
   "execution_count": null,
   "metadata": {},
   "outputs": [],
   "source": [
    "def convert_to_text_verbose(number): \n",
    "    bin_string = bin(number)[3:] \n",
    "    print(\"The number is: \")\n",
    "    print(number)\n",
    "    print(\"\\nThe binary string representation is:\")\n",
    "    print(bin_string)\n",
    "    print(\"\\nThe conversion/concatenation happens as follows:\\n\")\n",
    "    text = ''\n",
    "    length = len(bin_string)\n",
    "    for i in range(0,length,8):\n",
    "        byte_string = bin_string[i:i+8]\n",
    "        print(byte_string,chr(int(byte_string,2)))\n",
    "        text += chr(int(byte_string,2))\n",
    "    print(\"\\nThe output text is:\")\n",
    "    return text"
   ]
  },
  {
   "cell_type": "code",
   "execution_count": null,
   "metadata": {
    "scrolled": false
   },
   "outputs": [],
   "source": [
    "convert_to_text_verbose(result)"
   ]
  },
  {
   "cell_type": "markdown",
   "metadata": {},
   "source": [
    "During the encryption process we will want to work with numbers whose binary representation contains at most $512$ bits. (See the next lecture.) Thus for long messages we could, for example, slice the message into strings of length $60$ (with the last string being of length $\\le 60$) which, under our coding method, yields a binary representation containing $1 + 60 \\times 8 = 481$ bits, encode each string individually, and then encrypt and send the resulting list of numbers (instead of just encrypting and sending one number as in the example from above that we use here). "
   ]
  }
 ],
 "metadata": {
  "kernelspec": {
   "display_name": "Python 3",
   "language": "python",
   "name": "python3"
  },
  "language_info": {
   "codemirror_mode": {
    "name": "ipython",
    "version": 3
   },
   "file_extension": ".py",
   "mimetype": "text/x-python",
   "name": "python",
   "nbconvert_exporter": "python",
   "pygments_lexer": "ipython3",
   "version": "3.7.3"
  }
 },
 "nbformat": 4,
 "nbformat_minor": 2
}
