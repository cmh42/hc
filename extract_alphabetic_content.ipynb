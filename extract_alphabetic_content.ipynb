{
 "cells": [
  {
   "cell_type": "markdown",
   "id": "adbce413",
   "metadata": {},
   "source": [
    "# Alphabetic only texts/strings\n",
    "\n",
    "For the core parts of the Hybrid Cryptography project you are expected to work with text strings that only contain alphabetic characters, i.e. no spaces, no numbers, no punctuation, just the letters of the alphabet. \n",
    "\n",
    "You will therefore need to write a function that extracts precisely the alphabetic content of a string. Let's suppose that you have done this and that you have defined the following function \n",
    "```python\n",
    "def extract_text(text):\n",
    "    # Body of the function which takes the string \n",
    "    # text and returns a string containing only the \n",
    "    # alphabetic content of text. For you to define...\n",
    "```"
   ]
  },
  {
   "cell_type": "markdown",
   "id": "30170d3c",
   "metadata": {},
   "source": [
    "Now as an example we will define the string `first_part` to be the string containing the first 4000 characters of the string  `austen_text` whose content is the book *Pride and Prejudice* by Jane Austen. (4000 characters chosen so that we have started the actual book or, at least, the preface!) To do this we simply repeat the work done at the beginning of the notebook `get_online_texts.ipynb` where we noted that  we could find the *utf-8* encoded version of *Pride and Prejudice* by Jane Austen here: \n",
    "```\n",
    "https://www.gutenberg.org/files/1342/1342-0.txt \n",
    "``` \n",
    "and where we downloaded this as a string using the function `url_to_text_utf8` defined below. "
   ]
  },
  {
   "cell_type": "code",
   "execution_count": 1,
   "id": "0b43f253",
   "metadata": {},
   "outputs": [],
   "source": [
    "import requests, os"
   ]
  },
  {
   "cell_type": "code",
   "execution_count": 7,
   "id": "d16ab3ee",
   "metadata": {},
   "outputs": [],
   "source": [
    "def url_to_text_utf8(url):\n",
    "    '''\n",
    "    Given a url for a text that is \n",
    "    'utf-8' encoded this function \n",
    "    returns that text.\n",
    "    '''\n",
    "    response = requests.get(url)\n",
    "    response.encoding = 'utf-8-sig'\n",
    "    return response.text"
   ]
  },
  {
   "cell_type": "markdown",
   "id": "a5ce82f9",
   "metadata": {},
   "source": [
    "So now let's get the book *Pride and Prejudice* (as a string) once again. "
   ]
  },
  {
   "cell_type": "code",
   "execution_count": 8,
   "id": "a591083a",
   "metadata": {},
   "outputs": [],
   "source": [
    "austen_text = url_to_text_utf8(\"https://www.gutenberg.org/files/1342/1342-0.txt\")"
   ]
  },
  {
   "cell_type": "markdown",
   "id": "7f03d74c",
   "metadata": {},
   "source": [
    "And continue by defining `first_part`. "
   ]
  },
  {
   "cell_type": "code",
   "execution_count": 9,
   "id": "89d0d19e",
   "metadata": {},
   "outputs": [],
   "source": [
    "first_part = austen_text[:4000]"
   ]
  },
  {
   "cell_type": "markdown",
   "id": "7bd7dc35",
   "metadata": {},
   "source": [
    "Now let's have a look at this string. Notice all the space and other junk..."
   ]
  },
  {
   "cell_type": "code",
   "execution_count": 10,
   "id": "dee71b7e",
   "metadata": {
    "scrolled": false
   },
   "outputs": [
    {
     "data": {
      "text/plain": [
       "'The Project Gutenberg eBook of Pride and prejudice, by Jane Austen\\r\\n\\r\\nThis eBook is for the use of anyone anywhere in the United States and\\r\\nmost other parts of the world at no cost and with almost no restrictions\\r\\nwhatsoever. You may copy it, give it away or re-use it under the terms\\r\\nof the Project Gutenberg License included with this eBook or online at\\r\\nwww.gutenberg.org. If you are not located in the United States, you\\r\\nwill have to check the laws of the country where you are located before\\r\\nusing this eBook.\\r\\n\\r\\nTitle: Pride and prejudice\\r\\n\\r\\nAuthor: Jane Austen\\r\\n\\r\\nRelease Date: November 12, 2022 [eBook #1342]\\r\\n\\r\\nLanguage: English\\r\\n\\r\\nProduced by: Chuck Greif and the Online Distributed Proofreading Team at\\r\\n             http://www.pgdp.net (This file was produced from images\\r\\n             available at The Internet Archive)\\r\\n\\r\\n*** START OF THE PROJECT GUTENBERG EBOOK PRIDE AND PREJUDICE ***\\r\\n\\r\\n\\r\\n\\r\\n\\r\\n\\r\\n                            [Illustration:\\r\\n\\r\\n                             GEORGE ALLEN\\r\\n                               PUBLISHER\\r\\n\\r\\n                        156 CHARING CROSS ROAD\\r\\n                                LONDON\\r\\n\\r\\n                             RUSKIN HOUSE\\r\\n                                   ]\\r\\n\\r\\n                            [Illustration:\\r\\n\\r\\n               _Reading Jane’s Letters._      _Chap 34._\\r\\n                                   ]\\r\\n\\r\\n\\r\\n\\r\\n\\r\\n                                PRIDE.\\r\\n                                  and\\r\\n                               PREJUDICE\\r\\n\\r\\n                                  by\\r\\n                             Jane Austen,\\r\\n\\r\\n                           with a Preface by\\r\\n                           George Saintsbury\\r\\n                                  and\\r\\n                           Illustrations by\\r\\n                             Hugh Thomson\\r\\n\\r\\n                         [Illustration: 1894]\\r\\n\\r\\n                       Ruskin       156. Charing\\r\\n                       House.        Cross Road.\\r\\n\\r\\n                                London\\r\\n                             George Allen.\\r\\n\\r\\n\\r\\n\\r\\n\\r\\n             CHISWICK PRESS:--CHARLES WHITTINGHAM AND CO.\\r\\n                  TOOKS COURT, CHANCERY LANE, LONDON.\\r\\n\\r\\n\\r\\n\\r\\n\\r\\n                            [Illustration:\\r\\n\\r\\n                          _To J. Comyns Carr\\r\\n                      in acknowledgment of all I\\r\\n                       owe to his friendship and\\r\\n                    advice, these illustrations are\\r\\n                         gratefully inscribed_\\r\\n\\r\\n                            _Hugh Thomson_\\r\\n                                   ]\\r\\n\\r\\n\\r\\n\\r\\n\\r\\nPREFACE.\\r\\n\\r\\n[Illustration]\\r\\n\\r\\n\\r\\n_Walt Whitman has somewhere a fine and just distinction between “loving\\r\\nby allowance” and “loving with personal love.” This distinction applies\\r\\nto books as well as to men and women; and in the case of the not very\\r\\nnumerous authors who are the objects of the personal affection, it\\r\\nbrings a curious consequence with it. There is much more difference as\\r\\nto their best work than in the case of those others who are loved “by\\r\\nallowance” by convention, and because it is felt to be the right and\\r\\nproper thing to love them. And in the sect--fairly large and yet\\r\\nunusually choice--of Austenians or Janites, there would probably be\\r\\nfound partisans of the claim to primacy of almost every one of the\\r\\nnovels. To some the delightful freshness and humour of_ Northanger\\r\\nAbbey, _its completeness, finish, and_ entrain, _obscure the undoubted\\r\\ncritical facts that its scale is small, and its scheme, after all, that\\r\\nof burlesque or parody, a kind in which the first rank is reached with\\r\\ndifficulty._ Persuasion, _relatively faint in tone, and not enthralling\\r\\nin interest, has devotees who exalt above all the others its exquisite\\r\\ndelicacy and keeping. The catastrophe of_ Mansfield Park _is admittedly\\r\\ntheatrical, the hero and heroine are insipid, and the author has almost\\r\\nwickedly destroyed all romantic interest by expressly admitting that\\r\\nEdmund only took Fanny because Mary shocked him, and that Fanny might\\r\\nv'"
      ]
     },
     "execution_count": 10,
     "metadata": {},
     "output_type": "execute_result"
    }
   ],
   "source": [
    "first_part"
   ]
  },
  {
   "cell_type": "markdown",
   "id": "c73c3f6f",
   "metadata": {},
   "source": [
    "## Extract the alphabetic content of the string `first_part` \n",
    "\n",
    "To extract the alphabetic content (i.e. alphabetic characters) from the string `first_part` we pass it to the function `extract_text`. Using the following line of code we assign the variable `alphabetic_first_part` to the resulting string. \n",
    "\n",
    "```python\n",
    "alphabetic_first_part = extract_text(first_part) \n",
    "```\n",
    "\n",
    "And now, when we inspect the string returned by `extract_text` by, for example, running a cell containing only the line...\n",
    "```python \n",
    "alphabetic_first_part\n",
    "```\n",
    "we see $-$ provided `extract_text` is correctly defined $-$ that this string is as follows: \n",
    "```\n",
    "'TheProjectGutenbergeBookofPrideandprejudicebyJaneAustenThiseBookisfortheuseofanyoneanywhereintheUnitedStatesandmostotherpartsoftheworldatnocostandwithalmostnorestrictionswhatsoeverYoumaycopyitgiveitawayorreuseitunderthetermsoftheProjectGutenbergLicenseincludedwiththiseBookoronlineatwwwgutenbergorgIfyouarenotlocatedintheUnitedStatesyouwillhavetocheckthelawsofthecountrywhereyouarelocatedbeforeusingthiseBookTitlePrideandprejudiceAuthorJaneAustenReleaseDateNovembereBookLanguageEnglishProducedbyChuckGreifandtheOnlineDistributedProofreadingTeamathttpwwwpgdpnetThisfilewasproducedfromimagesavailableatTheInternetArchiveSTARTOFTHEPROJECTGUTENBERGEBOOKPRIDEANDPREJUDICEIllustrationGEORGEALLENPUBLISHERCHARINGCROSSROADLONDONRUSKINHOUSEIllustrationReadingJanesLettersChapPRIDEandPREJUDICEbyJaneAustenwithaPrefacebyGeorgeSaintsburyandIllustrationsbyHughThomsonIllustrationRuskinCharingHouseCrossRoadLondonGeorgeAllenCHISWICKPRESSCHARLESWHITTINGHAMANDCOTOOKSCOURTCHANCERYLANELONDONIllustrationToJComynsCarrinacknowledgmentofallIowetohisfriendshipandadvicetheseillustrationsaregratefullyinscribedHughThomsonPREFACEIllustrationWaltWhitmanhassomewhereafineandjustdistinctionbetweenlovingbyallowanceandlovingwithpersonalloveThisdistinctionappliestobooksaswellastomenandwomenandinthecaseofthenotverynumerousauthorswhoaretheobjectsofthepersonalaffectionitbringsacuriousconsequencewithitThereismuchmoredifferenceastotheirbestworkthaninthecaseofthoseotherswhoarelovedbyallowancebyconventionandbecauseitisfelttobetherightandproperthingtolovethemAndinthesectfairlylargeandyetunusuallychoiceofAusteniansorJanitestherewouldprobablybefoundpartisansoftheclaimtoprimacyofalmosteveryoneofthenovelsTosomethedelightfulfreshnessandhumourofNorthangerAbbeyitscompletenessfinishandentrainobscuretheundoubtedcriticalfactsthatitsscaleissmallanditsschemeafterallthatofburlesqueorparodyakindinwhichthefirstrankisreachedwithdifficultyPersuasionrelativelyfaintintoneandnotenthrallingininteresthasdevoteeswhoexaltabovealltheothersitsexquisitedelicacyandkeepingThecatastropheofMansfieldParkisadmittedlytheatricaltheheroandheroineareinsipidandtheauthorhasalmostwickedlydestroyedallromanticinterestbyexpresslyadmittingthatEdmundonlytookFannybecauseMaryshockedhimandthatFannymightv'\n",
    "```"
   ]
  },
  {
   "cell_type": "markdown",
   "id": "f8ce024c",
   "metadata": {},
   "source": [
    "## The Point\n",
    "\n",
    "You can convert all of the string `austen_text` in this way to obtain a purely alphabetic string then  use it for encryption and decryption etc. (and/or save it in a file for use later on). You can (and should) of course follow the same process for any of the text (.txt) files on the Hybrid Cryptography GitHub page, or for any other text files that you choose to use."
   ]
  },
  {
   "cell_type": "markdown",
   "id": "b6c22e66",
   "metadata": {},
   "source": [
    "## Note on cases\n",
    "\n",
    "You can design your encryption and decryption functions so that they preserve case. However you can also decide to work only in upper case or lower case (although preservation of case would be a nice feature to have). To do this you would simply have to convert your string to lower or upper case. \n",
    "\n",
    "For example executing the line\n",
    "```python\n",
    "alphabetic_first_part.lower()\n",
    "``` \n",
    "returns the string: \n",
    "```\n",
    "'theprojectgutenbergebookofprideandprejudicebyjaneaustenthisebookisfortheuseofanyoneanywhereintheunitedstatesandmostotherpartsoftheworldatnocostandwithalmostnorestrictionswhatsoeveryoumaycopyitgiveitawayorreuseitunderthetermsoftheprojectgutenberglicenseincludedwiththisebookoronlineatwwwgutenbergorgifyouarenotlocatedintheunitedstatesyouwillhavetocheckthelawsofthecountrywhereyouarelocatedbeforeusingthisebooktitleprideandprejudiceauthorjaneaustenreleasedatenovemberebooklanguageenglishproducedbychuckgreifandtheonlinedistributedproofreadingteamathttpwwwpgdpnetthisfilewasproducedfromimagesavailableattheinternetarchivestartoftheprojectgutenbergebookprideandprejudiceillustrationgeorgeallenpublishercharingcrossroadlondonruskinhouseillustrationreadingjanesletterschapprideandprejudicebyjaneaustenwithaprefacebygeorgesaintsburyandillustrationsbyhughthomsonillustrationruskincharinghousecrossroadlondongeorgeallenchiswickpresscharleswhittinghamandcotookscourtchancerylanelondonillustrationtojcomynscarrinacknowledgmentofalliowetohisfriendshipandadvicetheseillustrationsaregratefullyinscribedhughthomsonprefaceillustrationwaltwhitmanhassomewhereafineandjustdistinctionbetweenlovingbyallowanceandlovingwithpersonallovethisdistinctionappliestobooksaswellastomenandwomenandinthecaseofthenotverynumerousauthorswhoaretheobjectsofthepersonalaffectionitbringsacuriousconsequencewithitthereismuchmoredifferenceastotheirbestworkthaninthecaseofthoseotherswhoarelovedbyallowancebyconventionandbecauseitisfelttobetherightandproperthingtolovethemandinthesectfairlylargeandyetunusuallychoiceofausteniansorjanitestherewouldprobablybefoundpartisansoftheclaimtoprimacyofalmosteveryoneofthenovelstosomethedelightfulfreshnessandhumourofnorthangerabbeyitscompletenessfinishandentrainobscuretheundoubtedcriticalfactsthatitsscaleissmallanditsschemeafterallthatofburlesqueorparodyakindinwhichthefirstrankisreachedwithdifficultypersuasionrelativelyfaintintoneandnotenthrallingininteresthasdevoteeswhoexaltabovealltheothersitsexquisitedelicacyandkeepingthecatastropheofmansfieldparkisadmittedlytheatricaltheheroandheroineareinsipidandtheauthorhasalmostwickedlydestroyedallromanticinterestbyexpresslyadmittingthatedmundonlytookfannybecausemaryshockedhimandthatfannymightv'\n",
    "```\n",
    "\n",
    "whereas executing the line \n",
    "```python \n",
    "alphabetic_first_part.upper()\n",
    "```\n",
    "returns the string \n",
    "```\n",
    "'THEPROJECTGUTENBERGEBOOKOFPRIDEANDPREJUDICEBYJANEAUSTENTHISEBOOKISFORTHEUSEOFANYONEANYWHEREINTHEUNITEDSTATESANDMOSTOTHERPARTSOFTHEWORLDATNOCOSTANDWITHALMOSTNORESTRICTIONSWHATSOEVERYOUMAYCOPYITGIVEITAWAYORREUSEITUNDERTHETERMSOFTHEPROJECTGUTENBERGLICENSEINCLUDEDWITHTHISEBOOKORONLINEATWWWGUTENBERGORGIFYOUARENOTLOCATEDINTHEUNITEDSTATESYOUWILLHAVETOCHECKTHELAWSOFTHECOUNTRYWHEREYOUARELOCATEDBEFOREUSINGTHISEBOOKTITLEPRIDEANDPREJUDICEAUTHORJANEAUSTENRELEASEDATENOVEMBEREBOOKLANGUAGEENGLISHPRODUCEDBYCHUCKGREIFANDTHEONLINEDISTRIBUTEDPROOFREADINGTEAMATHTTPWWWPGDPNETTHISFILEWASPRODUCEDFROMIMAGESAVAILABLEATTHEINTERNETARCHIVESTARTOFTHEPROJECTGUTENBERGEBOOKPRIDEANDPREJUDICEILLUSTRATIONGEORGEALLENPUBLISHERCHARINGCROSSROADLONDONRUSKINHOUSEILLUSTRATIONREADINGJANESLETTERSCHAPPRIDEANDPREJUDICEBYJANEAUSTENWITHAPREFACEBYGEORGESAINTSBURYANDILLUSTRATIONSBYHUGHTHOMSONILLUSTRATIONRUSKINCHARINGHOUSECROSSROADLONDONGEORGEALLENCHISWICKPRESSCHARLESWHITTINGHAMANDCOTOOKSCOURTCHANCERYLANELONDONILLUSTRATIONTOJCOMYNSCARRINACKNOWLEDGMENTOFALLIOWETOHISFRIENDSHIPANDADVICETHESEILLUSTRATIONSAREGRATEFULLYINSCRIBEDHUGHTHOMSONPREFACEILLUSTRATIONWALTWHITMANHASSOMEWHEREAFINEANDJUSTDISTINCTIONBETWEENLOVINGBYALLOWANCEANDLOVINGWITHPERSONALLOVETHISDISTINCTIONAPPLIESTOBOOKSASWELLASTOMENANDWOMENANDINTHECASEOFTHENOTVERYNUMEROUSAUTHORSWHOARETHEOBJECTSOFTHEPERSONALAFFECTIONITBRINGSACURIOUSCONSEQUENCEWITHITTHEREISMUCHMOREDIFFERENCEASTOTHEIRBESTWORKTHANINTHECASEOFTHOSEOTHERSWHOARELOVEDBYALLOWANCEBYCONVENTIONANDBECAUSEITISFELTTOBETHERIGHTANDPROPERTHINGTOLOVETHEMANDINTHESECTFAIRLYLARGEANDYETUNUSUALLYCHOICEOFAUSTENIANSORJANITESTHEREWOULDPROBABLYBEFOUNDPARTISANSOFTHECLAIMTOPRIMACYOFALMOSTEVERYONEOFTHENOVELSTOSOMETHEDELIGHTFULFRESHNESSANDHUMOUROFNORTHANGERABBEYITSCOMPLETENESSFINISHANDENTRAINOBSCURETHEUNDOUBTEDCRITICALFACTSTHATITSSCALEISSMALLANDITSSCHEMEAFTERALLTHATOFBURLESQUEORPARODYAKINDINWHICHTHEFIRSTRANKISREACHEDWITHDIFFICULTYPERSUASIONRELATIVELYFAINTINTONEANDNOTENTHRALLINGININTERESTHASDEVOTEESWHOEXALTABOVEALLTHEOTHERSITSEXQUISITEDELICACYANDKEEPINGTHECATASTROPHEOFMANSFIELDPARKISADMITTEDLYTHEATRICALTHEHEROANDHEROINEAREINSIPIDANDTHEAUTHORHASALMOSTWICKEDLYDESTROYEDALLROMANTICINTERESTBYEXPRESSLYADMITTINGTHATEDMUNDONLYTOOKFANNYBECAUSEMARYSHOCKEDHIMANDTHATFANNYMIGHTV'\n",
    "```\n"
   ]
  }
 ],
 "metadata": {
  "kernelspec": {
   "display_name": "py39",
   "language": "python",
   "name": "py39"
  },
  "language_info": {
   "codemirror_mode": {
    "name": "ipython",
    "version": 3
   },
   "file_extension": ".py",
   "mimetype": "text/x-python",
   "name": "python",
   "nbconvert_exporter": "python",
   "pygments_lexer": "ipython3",
   "version": "3.9.13"
  }
 },
 "nbformat": 4,
 "nbformat_minor": 5
}
